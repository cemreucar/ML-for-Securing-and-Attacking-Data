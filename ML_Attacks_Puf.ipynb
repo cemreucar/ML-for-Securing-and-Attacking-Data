{
  "nbformat": 4,
  "nbformat_minor": 0,
  "metadata": {
    "colab": {
      "provenance": []
    },
    "kernelspec": {
      "name": "python3",
      "display_name": "Python 3"
    },
    "language_info": {
      "name": "python"
    },
    "accelerator": "GPU"
  },
  "cells": [
    {
      "cell_type": "code",
      "metadata": {
        "colab": {
          "base_uri": "https://localhost:8080/"
        },
        "id": "RDF-w18ZHkx8",
        "outputId": "48d0cd0f-dc0a-41a5-9443-98b52c49d6a5"
      },
      "source": [
        "from google.colab import drive\n",
        "drive.mount('/content/drive')"
      ],
      "execution_count": null,
      "outputs": [
        {
          "output_type": "stream",
          "text": [
            "Mounted at /content/drive\n"
          ],
          "name": "stdout"
        }
      ]
    },
    {
      "cell_type": "code",
      "metadata": {
        "colab": {
          "base_uri": "https://localhost:8080/"
        },
        "id": "kXEmgGFKHy8q",
        "outputId": "c48db89f-60d7-4b7a-9f87-3a2414977861"
      },
      "source": [
        "%cd /content/drive/My Drive/Colab Notebooks"
      ],
      "execution_count": null,
      "outputs": [
        {
          "output_type": "stream",
          "text": [
            "/content/drive/My Drive/Colab Notebooks\n"
          ],
          "name": "stdout"
        }
      ]
    },
    {
      "cell_type": "code",
      "metadata": {
        "id": "m93TFT3tKPT4"
      },
      "source": [
        "import pandas as pd #To import panda\n",
        "df  = pd.read_csv(\"CRPdataset.csv\")"
      ],
      "execution_count": null,
      "outputs": []
    },
    {
      "cell_type": "markdown",
      "metadata": {
        "id": "kFBg3yWXKaqu"
      },
      "source": [
        "The dataset comprises pairs (x, y), where x is a binary string of length 64, representing a challenge, and y is a binary digit, indicating the corresponding response. In this context, x serves as the challenge input, and y represents the output response in binary form.\n"
      ]
    },
    {
      "cell_type": "code",
      "metadata": {
        "id": "Z7ARuqF1Kmts"
      },
      "source": [
        "# We need to convert the pandas dataframe into a Numpy array of features and labels\n",
        "y = df.pop(\"Label\").values\n",
        "X = df.values"
      ],
      "execution_count": null,
      "outputs": []
    },
    {
      "cell_type": "code",
      "metadata": {
        "id": "LSmHNWWWK0GL"
      },
      "source": [
        "# Here, we are conducting a train-test split using scikit-learn\n",
        "from sklearn.model_selection import train_test_split\n",
        "X_train, X_Test, y_train, y_test = train_test_split(X, y, test_size = 0.25, random_state = 11)"
      ],
      "execution_count": null,
      "outputs": []
    },
    {
      "cell_type": "code",
      "metadata": {
        "colab": {
          "base_uri": "https://localhost:8080/"
        },
        "id": "XZX15sdOLJrA",
        "outputId": "f221d8ba-25eb-408a-e3fd-7bae78aa874a"
      },
      "source": [
        "#Here, we are creating and training an XGBoost classifier\n",
        "from xgboost import XGBClassifier\n",
        "clf = XGBClassifier()\n",
        "clf.fit(X_train, y_train)\n",
        "print(clf.score(X_train, y_train))"
      ],
      "execution_count": null,
      "outputs": [
        {
          "output_type": "stream",
          "text": [
            "0.6493333333333333\n"
          ],
          "name": "stdout"
        }
      ]
    },
    {
      "cell_type": "code",
      "metadata": {
        "colab": {
          "base_uri": "https://localhost:8080/"
        },
        "id": "HUYhHb07Laa9",
        "outputId": "0a3a6e3d-a11b-4ef3-cafc-f30e2e52929e"
      },
      "source": [
        "# Test the classifier\n",
        "clf.score(X_Test, y_test)"
      ],
      "execution_count": null,
      "outputs": [
        {
          "output_type": "execute_result",
          "data": {
            "text/plain": [
              "0.6126666666666667"
            ]
          },
          "metadata": {
            "tags": []
          },
          "execution_count": 7
        }
      ]
    },
    {
      "cell_type": "markdown",
      "metadata": {
        "id": "801UZmk2-qSP"
      },
      "source": [
        "\n",
        "\n",
        "Classical cryptography relies on secret keys, often stored in electronic devices, which can be costly and face challenges in maintaining confidentiality. To address this, Physical Unclonable Functions (PUFs) were introduced, producing outputs that are quickly evaluated yet challenging to predict.\n",
        "\n",
        "For PUF-based authentication, a database of Challenge-Response Pairs (CRPs) is constructed. Challenges are binary strings (e.g., 1100101...01) of length n, and responses are corresponding binary strings of length m. To verify an unknown device as the intended PUF, multiple challenges are issued, and the correctness of its responses is checked until reaching the desired probability of identification. It's important to note that PUFs aren't infallible; the same challenge may yield different responses due to environmental conditions and noise.\n",
        "\n",
        "In this project, the objective is to employ Machine Learning for attacking a specific PUF. It's worth mentioning that the field is dynamic, with ongoing developments introducing more secure PUFs and methodologies to enhance their reliability and security through Machine Learning.\n"
      ]
    }
  ]
}