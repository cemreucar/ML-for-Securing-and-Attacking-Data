{
  "nbformat": 4,
  "nbformat_minor": 0,
  "metadata": {
    "colab": {
      "provenance": []
    },
    "kernelspec": {
      "name": "python3",
      "display_name": "Python 3"
    },
    "language_info": {
      "name": "python"
    },
    "accelerator": "GPU"
  },
  "cells": [
    {
      "cell_type": "code",
      "metadata": {
        "colab": {
          "base_uri": "https://localhost:8080/"
        },
        "id": "tFdA4JFd_0zE",
        "outputId": "6ef0294c-cb99-4735-9c84-51ffe561fe12"
      },
      "source": [
        "from google.colab import drive\n",
        "drive.mount('/content/drive')"
      ],
      "execution_count": null,
      "outputs": [
        {
          "output_type": "stream",
          "text": [
            "Mounted at /content/drive\n"
          ],
          "name": "stdout"
        }
      ]
    },
    {
      "cell_type": "code",
      "metadata": {
        "colab": {
          "base_uri": "https://localhost:8080/"
        },
        "id": "wHEQkbyFAKuy",
        "outputId": "0490e11f-2291-4a26-d60a-9c73813f6482"
      },
      "source": [
        "%cd /content/drive/My Drive/Colab Notebooks"
      ],
      "execution_count": null,
      "outputs": [
        {
          "output_type": "stream",
          "text": [
            "/content/drive/My Drive/Colab Notebooks\n"
          ],
          "name": "stdout"
        }
      ]
    },
    {
      "cell_type": "code",
      "metadata": {
        "id": "TtTa97OKDa-M"
      },
      "source": [
        "# Define variables indicating the paths to the extracted feature files\n",
        "boss_features_path = \"bossbase.fea\"\n",
        "bossbase_lsb_features_path= \"bossbase_lsb.fea\""
      ],
      "execution_count": null,
      "outputs": []
    },
    {
      "cell_type": "code",
      "metadata": {
        "id": "SuGKxg6_DwP1"
      },
      "source": [
        "features_with_labels = [(boss_features_path,0),(bossbase_lsb_features_path, 0)]"
      ],
      "execution_count": null,
      "outputs": []
    },
    {
      "cell_type": "code",
      "metadata": {
        "id": "BswcTB8RD7yP"
      },
      "source": [
        "#Accumulate features and labels into arrays\n",
        "X = []\n",
        "y = []\n",
        "for feature_path, label in features_with_labels:\n",
        "  with open(feature_path,\"r\") as f:\n",
        "    for line in f:\n",
        "      fv = line.split()\n",
        "      X.append(fv)\n",
        "      y.append(label)"
      ],
      "execution_count": null,
      "outputs": []
    },
    {
      "cell_type": "code",
      "metadata": {
        "id": "UrxcRrUaEYfG"
      },
      "source": [
        "from sklearn.model_selection import train_test_split # Perform a train-test split\n",
        "X_train, X_test, y_train, y_test = train_test_split(X,y, test_size = 0.2, random_state = 11)"
      ],
      "execution_count": null,
      "outputs": []
    },
    {
      "cell_type": "code",
      "metadata": {
        "id": "MgOEyWmEEtxb"
      },
      "source": [
        "from sklearn.ensemble import RandomForestClassifier # Create and train a RandomForestClassifier instance.\n",
        "clf = RandomForestClassifier()\n",
        "clf = clf.fit(X_train, y_train)"
      ],
      "execution_count": null,
      "outputs": []
    },
    {
      "cell_type": "code",
      "metadata": {
        "colab": {
          "base_uri": "https://localhost:8080/"
        },
        "id": "YRUngXkBE79N",
        "outputId": "05fa1b4b-ee8a-4c6b-eac8-b3cec51dd67f"
      },
      "source": [
        "print(clf.score(X_test, y_test)) # Evaluate the classifier's performance on the test set.\n",
        "python"
      ],
      "execution_count": null,
      "outputs": [
        {
          "output_type": "stream",
          "text": [
            "1.0\n"
          ],
          "name": "stdout"
        }
      ]
    },
    {
      "cell_type": "markdown",
      "source": [
        "\n",
        "The primary technique in steganography involves concealing messages within images by modifying the least significant bits (LSB) of the pixels with corresponding bits from the message. This results in an altered image with an embedded message that appears indistinguishable from the original to the human eye. The subtle changes in pixel values caused by adjusting the LSB ensure visual similarity.\n",
        "\n",
        "There are two prominent methods for LSB manipulation:\n",
        "\n",
        "LSB Replacement (Naive Method):\n",
        "\n",
        "In this method, the LSB bit of a pixel remains unchanged if it matches the corresponding message bit; otherwise, it is modified.\n",
        "As a consequence, odd pixels have their intensity reduced by 1, while even pixels see an increment by 1.\n",
        "However, this approach introduces an imbalance in the image histogram, which can be easily detected using statistical methods for steganalysis.\n",
        "LSB Matching:\n",
        "\n",
        "To address the histogram imbalance issue, LSB matching is employed.\n",
        "In case of an LSB bit mismatch, pixel values are randomly adjusted by either incrementing or decrementing by 1.\n",
        "This mitigates histogram irregularities, making it challenging to detect hidden messages through simple statistical analyses alone.\n",
        "These LSB steganography methods provide a means to embed information in images covertly, with LSB matching offering a refinement to counter potential detection based on statistical analysis.\n",
        "\n"
      ],
      "metadata": {
        "id": "kseQvizQ56pt"
      }
    }
  ]
}