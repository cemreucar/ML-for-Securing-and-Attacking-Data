{
  "nbformat": 4,
  "nbformat_minor": 0,
  "metadata": {
    "colab": {
      "provenance": []
    },
    "kernelspec": {
      "name": "python3",
      "display_name": "Python 3"
    },
    "language_info": {
      "name": "python"
    }
  },
  "cells": [
    {
      "cell_type": "markdown",
      "source": [
        "Cracking a password involves a systematic effort to uncover the secure system's password. This process may include trying common passwords, exploring clearly generated candidate passwords or employing a straightforward brute-force exhaustive search. Enhancing password complexity is crucial to heighten resistance against cracking attempts."
      ],
      "metadata": {
        "id": "4622AHkhyi88"
      }
    },
    {
      "cell_type": "code",
      "metadata": {
        "colab": {
          "base_uri": "https://localhost:8080/"
        },
        "id": "oYuXupWi0WPC",
        "outputId": "bd191c87-ffcf-44e8-af90-ac116d619a60"
      },
      "source": [
        "from google.colab import drive\n",
        "drive.mount('/content/drive')"
      ],
      "execution_count": 3,
      "outputs": [
        {
          "output_type": "stream",
          "name": "stdout",
          "text": [
            "Mounted at /content/drive\n"
          ]
        }
      ]
    },
    {
      "cell_type": "code",
      "metadata": {
        "colab": {
          "base_uri": "https://localhost:8080/"
        },
        "id": "ZwL4SMmX0beR",
        "outputId": "aa72cf39-dbb8-4e4f-8cb2-51e5f28db4ea"
      },
      "source": [
        "%cd /content/drive/My Drive/Colab Notebooks"
      ],
      "execution_count": 6,
      "outputs": [
        {
          "output_type": "stream",
          "name": "stdout",
          "text": [
            "/content/drive/My Drive/Colab Notebooks\n"
          ]
        }
      ]
    },
    {
      "cell_type": "code",
      "metadata": {
        "id": "J_qSaL1r2M20"
      },
      "source": [
        "\n",
        "import pandas as pd # import pandas and read  the passwords in the passwordDataset.csv\n",
        "\n",
        "df = pd.read_csv(\n",
        "    \"passwordDataset.csv\", dtype={\"password\": \"str\", \"strength\": \"int\"}, index_col=None\n",
        ")"
      ],
      "execution_count": 12,
      "outputs": []
    },
    {
      "cell_type": "code",
      "metadata": {
        "colab": {
          "base_uri": "https://localhost:8080/",
          "height": 402
        },
        "id": "-yYzJl4b4oe4",
        "outputId": "1444fba7-9acc-4766-ed0c-cbef9442a2ef"
      },
      "source": [
        "df"
      ],
      "execution_count": null,
      "outputs": [
        {
          "output_type": "execute_result",
          "data": {
            "text/html": [
              "<div>\n",
              "<style scoped>\n",
              "    .dataframe tbody tr th:only-of-type {\n",
              "        vertical-align: middle;\n",
              "    }\n",
              "\n",
              "    .dataframe tbody tr th {\n",
              "        vertical-align: top;\n",
              "    }\n",
              "\n",
              "    .dataframe thead th {\n",
              "        text-align: right;\n",
              "    }\n",
              "</style>\n",
              "<table border=\"1\" class=\"dataframe\">\n",
              "  <thead>\n",
              "    <tr style=\"text-align: right;\">\n",
              "      <th></th>\n",
              "      <th>password</th>\n",
              "      <th>strength</th>\n",
              "    </tr>\n",
              "  </thead>\n",
              "  <tbody>\n",
              "    <tr>\n",
              "      <th>0</th>\n",
              "      <td>kzde5577</td>\n",
              "      <td>1</td>\n",
              "    </tr>\n",
              "    <tr>\n",
              "      <th>1</th>\n",
              "      <td>kino3434</td>\n",
              "      <td>1</td>\n",
              "    </tr>\n",
              "    <tr>\n",
              "      <th>2</th>\n",
              "      <td>visi7k1yr</td>\n",
              "      <td>1</td>\n",
              "    </tr>\n",
              "    <tr>\n",
              "      <th>3</th>\n",
              "      <td>megzy123</td>\n",
              "      <td>1</td>\n",
              "    </tr>\n",
              "    <tr>\n",
              "      <th>4</th>\n",
              "      <td>lamborghin1</td>\n",
              "      <td>1</td>\n",
              "    </tr>\n",
              "    <tr>\n",
              "      <th>...</th>\n",
              "      <td>...</td>\n",
              "      <td>...</td>\n",
              "    </tr>\n",
              "    <tr>\n",
              "      <th>669634</th>\n",
              "      <td>10redtux10</td>\n",
              "      <td>1</td>\n",
              "    </tr>\n",
              "    <tr>\n",
              "      <th>669635</th>\n",
              "      <td>infrared1</td>\n",
              "      <td>1</td>\n",
              "    </tr>\n",
              "    <tr>\n",
              "      <th>669636</th>\n",
              "      <td>184520socram</td>\n",
              "      <td>1</td>\n",
              "    </tr>\n",
              "    <tr>\n",
              "      <th>669637</th>\n",
              "      <td>marken22a</td>\n",
              "      <td>1</td>\n",
              "    </tr>\n",
              "    <tr>\n",
              "      <th>669638</th>\n",
              "      <td>fxx4pw4g</td>\n",
              "      <td>1</td>\n",
              "    </tr>\n",
              "  </tbody>\n",
              "</table>\n",
              "<p>669639 rows × 2 columns</p>\n",
              "</div>"
            ],
            "text/plain": [
              "            password  strength\n",
              "0           kzde5577         1\n",
              "1           kino3434         1\n",
              "2          visi7k1yr         1\n",
              "3           megzy123         1\n",
              "4        lamborghin1         1\n",
              "...              ...       ...\n",
              "669634    10redtux10         1\n",
              "669635     infrared1         1\n",
              "669636  184520socram         1\n",
              "669637     marken22a         1\n",
              "669638      fxx4pw4g         1\n",
              "\n",
              "[669639 rows x 2 columns]"
            ]
          },
          "metadata": {
            "tags": []
          },
          "execution_count": 13
        }
      ]
    },
    {
      "cell_type": "code",
      "metadata": {
        "id": "AfPjjBkg2l46"
      },
      "source": [
        "df = df.sample(frac=1) # Shuffle"
      ],
      "execution_count": 13,
      "outputs": []
    },
    {
      "cell_type": "code",
      "metadata": {
        "id": "l5Tfl4Nm2r55"
      },
      "source": [
        "#It is necessary to partition the DataFrame into two distinct sets – one designated for training purposes and the other for testing.\n",
        "l = len(df.index)\n",
        "train_df = df.head(int(l * 0.8))\n",
        "test_df = df.tail(int(l * 0.2))"
      ],
      "execution_count": 14,
      "outputs": []
    },
    {
      "cell_type": "code",
      "metadata": {
        "id": "eHbBvHbu29bS"
      },
      "source": [
        "#Preparing the labels and feature data for training and testing\n",
        "y_train = train_df.pop(\"strength\").values\n",
        "y_test = test_df.pop(\"strength\").values\n",
        "X_train = train_df.values.flatten()\n",
        "X_test = test_df.values.flatten()"
      ],
      "execution_count": 15,
      "outputs": []
    },
    {
      "cell_type": "code",
      "metadata": {
        "id": "6egShQOg3TqB"
      },
      "source": [
        "#We have to create a function that separates the characters of a given string\n",
        "def character_tokens(input_string):\n",
        "    \"\"\"Break string into characters.\"\"\"\n",
        "    return [x for x in input_string]"
      ],
      "execution_count": 16,
      "outputs": []
    },
    {
      "cell_type": "code",
      "metadata": {
        "id": "kckA7jOc3lOi"
      },
      "source": [
        "#Sets up a pipeline to apply TF-IDF (Term Frequency-Inverse Document Frequency) on the characters of passwords, followed by training a Gradient Boosting classifier.\n",
        "from sklearn.pipeline import Pipeline\n",
        "from sklearn.feature_extraction.text import TfidfVectorizer\n",
        "from xgboost import XGBClassifier\n",
        "\n",
        "password_clf = Pipeline(\n",
        "    [(\"vect\", TfidfVectorizer(tokenizer=character_tokens)), (\"clf\", XGBClassifier()),]\n",
        ")"
      ],
      "execution_count": 17,
      "outputs": []
    },
    {
      "cell_type": "code",
      "metadata": {
        "colab": {
          "base_uri": "https://localhost:8080/"
        },
        "id": "bL8Yq52x4Qop",
        "outputId": "24fe1d9b-5838-4084-ab1f-2f8f1b693dfe"
      },
      "source": [
        "password_clf.fit(X_train, y_train)\n",
        "password_clf.score(X_test, y_test)"
      ],
      "execution_count": 18,
      "outputs": [
        {
          "metadata": {
            "tags": null
          },
          "name": "stderr",
          "output_type": "stream",
          "text": [
            "/usr/local/lib/python3.10/dist-packages/sklearn/feature_extraction/text.py:528: UserWarning: The parameter 'token_pattern' will not be used since 'tokenizer' is not None'\n",
            "  warnings.warn(\n"
          ]
        },
        {
          "output_type": "execute_result",
          "data": {
            "text/plain": [
              "0.9797352288933523"
            ]
          },
          "metadata": {},
          "execution_count": 18
        }
      ]
    },
    {
      "cell_type": "code",
      "metadata": {
        "id": "FWmQ2otr565A"
      },
      "source": [
        "#Assigns values to two variables, one representing a commonly used password and the other a computer-generated, high-entropy password\n",
        "common_password = \"qwerty\"\n",
        "strong_computer_generated_password = \"c9lCwLBFmdLbG6iWla4H\""
      ],
      "execution_count": 19,
      "outputs": []
    },
    {
      "cell_type": "code",
      "metadata": {
        "colab": {
          "base_uri": "https://localhost:8080/"
        },
        "id": "G0CSYJ2M6xbZ",
        "outputId": "d0a05bac-2f08-42b9-e97e-d8bbb73e1c3e"
      },
      "source": [
        "#Determine the classifier's strength predictions for the two passwords provided\n",
        "password_clf.predict([common_password,strong_computer_generated_password])"
      ],
      "execution_count": 20,
      "outputs": [
        {
          "output_type": "execute_result",
          "data": {
            "text/plain": [
              "array([0, 2])"
            ]
          },
          "metadata": {},
          "execution_count": 20
        }
      ]
    }
  ]
}